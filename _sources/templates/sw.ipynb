{
 "cells": [
  {
   "cell_type": "markdown",
   "id": "f3cc543f",
   "metadata": {},
   "source": [
    "# Surface water monitoring locations"
   ]
  },
  {
   "cell_type": "code",
   "execution_count": 1,
   "id": "034a7d60",
   "metadata": {
    "tags": [
     "hide-cell"
    ]
   },
   "outputs": [
    {
     "data": {
      "text/plain": [
       "{'@context': [{'schema': 'https://schema.org/',\n",
       "   'skos': 'http://www.w3.org/2004/02/skos/core#',\n",
       "   'hyf': 'https://www.opengis.net/def/schema/hy_features/hyf/',\n",
       "   'name': 'schema:name',\n",
       "   'gsp': 'http://www.opengis.net/ont/geosparql#',\n",
       "   'sameAs': 'schema:sameAs',\n",
       "   'related': 'skos:related',\n",
       "   'description': 'schema:description',\n",
       "   'image': {'@id': 'schema:image', '@type': '@id'}}],\n",
       " '@id': 'https://geoconnex.us/iow/demo/MA00689',\n",
       " '@type': ['https://www.opengis.net/def/schema/hy_features/hyf/HY_HydrometricFeature',\n",
       "  'https://www.opengis.net/def/schema/hy_features/hyf/HY_HydroLocation'],\n",
       " 'name': 'Quinebaug River',\n",
       " 'description': 'Monitoring Location at Quinebaug River',\n",
       " 'hyf:referencedPosition': [{'hyf:HY_IndirectPosition': {'hyf:distanceExpression': {'hyf:HY_DistanceFromReferent': {'hyf:interpolative': 0}},\n",
       "    'hyf:distanceDescription': {'hyf:HY_DistanceDescription': 'upstream'},\n",
       "    'hyf:linearElement': 'https://geoconnex.us/nhdplusv2/reachcode/01100001000054'}}],\n",
       " 'hyf:HY_HydroLocationType': 'hydrometricStation',\n",
       " 'schema:geoWithin': 'https://geoconnex.us/ref/hu08/01100001',\n",
       " 'geo': {'@type': 'schema:GeoCoordinates',\n",
       "  'schema:longitude': -72.03888644794775,\n",
       "  'schema:latitude': 42.0838662883585},\n",
       " 'gsp:hasGeometry': {'@type': 'http://www.opengis.net/ont/sf#Point',\n",
       "  'gsp:asWKT': {'@type': 'http://www.opengis.net/ont/geosparql#wktLiteral',\n",
       "   '@value': 'POINT (-72.03888644794775 42.0838662883585)'}}}"
      ]
     },
     "execution_count": 1,
     "metadata": {},
     "output_type": "execute_result"
    }
   ],
   "source": [
    "{\n",
    "    \"@context\": [\n",
    "        {\n",
    "            \"schema\": \"https://schema.org/\",\n",
    "            \"skos\": \"http://www.w3.org/2004/02/skos/core#\",\n",
    "            \"hyf\": \"https://www.opengis.net/def/schema/hy_features/hyf/\",\n",
    "            \"name\": \"schema:name\",\n",
    "            \"gsp\": \"http://www.opengis.net/ont/geosparql#\",\n",
    "            \"sameAs\": \"schema:sameAs\",\n",
    "            \"related\": \"skos:related\",\n",
    "            \"description\": \"schema:description\",\n",
    "            \"image\": {\n",
    "                \"@id\": \"schema:image\",\n",
    "                \"@type\": \"@id\"\n",
    "            }\n",
    "        }\n",
    "    ],\n",
    "    \"@id\": \"https://geoconnex.us/iow/demo/MA00689\",\n",
    "    \"@type\": [\n",
    "        \"https://www.opengis.net/def/schema/hy_features/hyf/HY_HydrometricFeature\",\n",
    "        \"https://www.opengis.net/def/schema/hy_features/hyf/HY_HydroLocation\"\n",
    "    ],\n",
    "    \"name\": \"Quinebaug River\",\n",
    "    \"description\": \"Monitoring Location at Quinebaug River\",\n",
    "    \"hyf:referencedPosition\": [\n",
    "        {\n",
    "            \"hyf:HY_IndirectPosition\": {\n",
    "                \"hyf:distanceExpression\": {\n",
    "                    \"hyf:HY_DistanceFromReferent\": {\n",
    "                        \"hyf:interpolative\": 0\n",
    "                    }\n",
    "                },\n",
    "                \"hyf:distanceDescription\": {\n",
    "                    \"hyf:HY_DistanceDescription\": \"upstream\"\n",
    "                },\n",
    "                \"hyf:linearElement\": \"https://geoconnex.us/nhdplusv2/reachcode/01100001000054\"\n",
    "            }\n",
    "        }\n",
    "    ],\n",
    "    \"hyf:HY_HydroLocationType\": \"hydrometricStation\",\n",
    "    \"schema:geoWithin\": \"https://geoconnex.us/ref/hu08/01100001\",\n",
    "    \"geo\": {\n",
    "        \"@type\": \"schema:GeoCoordinates\",\n",
    "        \"schema:longitude\": -72.03888644794775,\n",
    "        \"schema:latitude\": 42.0838662883585\n",
    "    },\n",
    "    \"gsp:hasGeometry\": {\n",
    "        \"@type\": \"http://www.opengis.net/ont/sf#Point\",\n",
    "        \"gsp:asWKT\": {\n",
    "            \"@type\": \"http://www.opengis.net/ont/geosparql#wktLiteral\",\n",
    "            \"@value\": \"POINT (-72.03888644794775 42.0838662883585)\"\n",
    "        }\n",
    "    }\n",
    "}"
   ]
  }
 ],
 "metadata": {
  "jupytext": {
   "text_representation": {
    "extension": ".md",
    "format_name": "myst"
   }
  },
  "kernelspec": {
   "display_name": "Python 3",
   "language": "python",
   "name": "python3"
  },
  "language_info": {
   "codemirror_mode": {
    "name": "ipython",
    "version": 3
   },
   "file_extension": ".py",
   "mimetype": "text/x-python",
   "name": "python",
   "nbconvert_exporter": "python",
   "pygments_lexer": "ipython3",
   "version": "3.7.13"
  },
  "source_map": [
   10,
   18
  ]
 },
 "nbformat": 4,
 "nbformat_minor": 5
}