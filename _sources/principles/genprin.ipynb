{
 "cells": [
  {
   "cell_type": "markdown",
   "id": "ee02b615",
   "metadata": {},
   "source": [
    "# General Principles\n",
    "\n",
    "geoconnex.us is about publishing water data on the web in a manner similar to the way commercial entities publish information such that it is easily discoverable and useable by software developers to create feature-rich user experiences and information products. \n",
    "\n",
    "Think about the way that a search for a movie title on a search engine instantly brings up a card showing that film's director, cast, showtimes at nearby movie theaters or availability on various streaming platforms. Or how you can search in a maps application for gas stations or fast-food chains along your route. Or how a search for a city name and \"population\" might bring up an interactive line graph showing its population trend along with those of other cities. [These sorts of things](https://developers.google.com/search/docs/advanced/structured-data/search-gallery), as well as [generally improved search results](https://en.wikipedia.org/wiki/Search_engine_optimization), are generally made possible due to the presence of \"structured, linked data\" within websites.\n",
    "\n",
    "Structured data consists of specifically formatted, machine-readable descriptive information about the subject of the webpage, as well as in many cases, links to other webpages. For example, a webpage about a particular job posting on a job listing app might have structured information about the job title, work location, posting date, salary range, as well as link to the company homepage. Search engines then use \"web crawlers\", which are special programs that go to webpages and harvest the structured data within them, to collect this structured data and aggregate it into a \"knowledge graph\", a digital representation of all of the webpages and how they relate to each other. \n",
    "\n",
    "Knowledge graphs are what allow search engines to provide informative answers to queries. Google, Bing, and Yahoo have partenered together to create general framework for webpages to have structured linked data at [schema.org](https://schema.org), a specific vocabulary of terms that allows unambiguous representation of the attributes of subjects of websites. For example, https://schema.org/name is the standard identifier for the name of something, and https://schema.org/longitude is the standard identifier for the longitude of a location. [JSON-LD](https://json-ld.org) is a special format that structured data can use, leveraging schema.org and other vocabularies, to be easily read by web crawlers.\n",
    "\n",
    "## Data publishers: Structured water data on the web\n",
    "geoconnex.us augments the above framework with a strategy and guidance for data publishers to anchor webpages to hydrologic features of interest and structured data to vocabularies specifically designed for water science to create a knowledge graph for water data. The fundamental architecture of geoconnex.us has four components:\n",
    "\n",
    "\n",
    "1. **Real-World Features** that have...\n",
    "2. **Persistent Identifiers (formatted as URLs)** that point to...\n",
    "3. **Landing Content (web pages)** that include...\n",
    "4. **Structured, Linked Data** formatted as JSON-LD that include references to other **Persistent Identifiers**\n",
    "\n",
    "\n",
    ":::{figure-md} fundamentals\n",
    "<img src=\"fundamentals.png\" alt=\"geoconnex-fundamentals\" class=\"bg-primary mb-1\" width=\"800px\">\n",
    "\n",
    "The geoconnex.us data publication fundamentals.\n",
    ":::\n",
    "\n",
    "\n",
    "## geoconnex.us: Organizing the structured data\n",
    "\n",
    "The geoconnex.us system includes some important infrastructure that helps organize the structured data that data publishers put on the web and make it useable to data users. These elements include:\n",
    "\n",
    "1. **Persistent Identifier Registry** to help data publishers mint persistent identifiers and populate a...\n",
    "2. **Sitemap** of all identifiers to allow a...\n",
    "3. **Harvester** to collect structured data so that it can be assembled into a knowlege graph and made available to data users through...\n",
    "4. **APIs and Search Interfaces**\n",
    "5. **Documentation** that provides detailed guidance, templates, and examples on how to contribute to and use the knowledge graph.\n",
    "\n",
    "\n",
    ":::{figure-md} bigpicture\n",
    "<img src=\"bigpicture.png\" alt=\"geoconnex-bigpicture\" class=\"bg-primary mb-1\" width=\"800px\">\n",
    "\n",
    "The geoconnex.us architecture\n",
    ":::\n",
    "\n",
    "\n",
    "The remaining parts of this section give more detailed documentation for each of the elements outlined."
   ]
  }
 ],
 "metadata": {
  "jupytext": {
   "text_representation": {
    "extension": ".md",
    "format_name": "myst"
   }
  },
  "kernelspec": {
   "display_name": "Python 3",
   "language": "python",
   "name": "python3"
  },
  "language_info": {
   "codemirror_mode": {
    "name": "ipython",
    "version": 3
   },
   "file_extension": ".py",
   "mimetype": "text/x-python",
   "name": "python",
   "nbconvert_exporter": "python",
   "pygments_lexer": "ipython3",
   "version": "3.7.12"
  },
  "source_map": [
   10
  ]
 },
 "nbformat": 4,
 "nbformat_minor": 5
}