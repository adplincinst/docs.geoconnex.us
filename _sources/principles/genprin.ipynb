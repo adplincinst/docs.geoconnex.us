{
 "cells": [
  {
   "cell_type": "markdown",
   "id": "235cc363",
   "metadata": {},
   "source": [
    "# General Principles\n",
    "\n",
    "geoconnex.us is about publishing water data on the web in a manner similar to the way commercial entities publish information such that it is easily discoverable and useable by software developers to create feature-rich user experiences and information products. \n",
    "\n",
    "Think about the way that a search for a movie title on a search engine instantly brings up a card showing that film's director, cast, showtimes at nearby movie theaters or availability on variou streaming platforms. Or how you can search along in a maps application for gas stations or fast-food chains along your route. Or how a search for a city name and \"population\" might bring up an interactive line graph showing its population trend along with those of other cities. [These sorts of things](https://developers.google.com/search/docs/advanced/structured-data/search-gallery), as well as [generally improved search results](https://en.wikipedia.org/wiki/Search_engine_optimization), are generally made possible due to the publishing of \"structured, linked data\" within websites.\n",
    "\n",
    "## What is structured, linked data?\n",
    "Structured data consists of specifically formatted, machine-readable descriptive information about the subject of the website, as well as in many cases, links to other websites. For example, a webpage about a particular job posting on a job listing app might have structured information about the job title, work location, posting date, salary range, as well as link to the company homepage."
   ]
  },
  {
   "cell_type": "code",
   "execution_count": 1,
   "id": "8ccf2b65",
   "metadata": {
    "tags": [
     "hide-cell"
    ]
   },
   "outputs": [
    {
     "data": {
      "text/plain": [
       "{'@context': 'https://schema.org/',\n",
       " '@type': 'JobPosting',\n",
       " 'title': 'Software Engineer',\n",
       " 'description': '<p>Google aspires to be an organization that reflects the globally diverse audience that our products and technology serve. We believe that in addition to hiring the best talent, a diversity of perspectives, ideas and cultures leads to the creation of better products and services.</p>',\n",
       " 'identifier': {'@type': 'PropertyValue',\n",
       "  'name': 'Google',\n",
       "  'value': '1234567'},\n",
       " 'datePosted': '2017-01-18',\n",
       " 'validThrough': '2017-03-18T00:00',\n",
       " 'employmentType': 'CONTRACTOR',\n",
       " 'hiringOrganization': {'@type': 'Organization',\n",
       "  'name': 'Google',\n",
       "  'sameAs': 'http://www.google.com',\n",
       "  'logo': 'http://www.example.com/images/logo.png'},\n",
       " 'jobLocation': {'@type': 'Place',\n",
       "  'address': {'@type': 'PostalAddress',\n",
       "   'streetAddress': '1600 Amphitheatre Pkwy',\n",
       "   'addressLocality': 'Mountain View',\n",
       "   'addressRegion': 'CA',\n",
       "   'postalCode': '94043',\n",
       "   'addressCountry': 'US'}},\n",
       " 'baseSalary': {'@type': 'MonetaryAmount',\n",
       "  'currency': 'USD',\n",
       "  'value': {'@type': 'QuantitativeValue', 'value': 40.0, 'unitText': 'HOUR'}}}"
      ]
     },
     "execution_count": 1,
     "metadata": {},
     "output_type": "execute_result"
    }
   ],
   "source": [
    " {\n",
    "      \"@context\" : \"https://schema.org/\",\n",
    "      \"@type\" : \"JobPosting\",\n",
    "      \"title\" : \"Software Engineer\",\n",
    "      \"description\" : \"<p>Google aspires to be an organization that reflects the globally diverse audience that our products and technology serve. We believe that in addition to hiring the best talent, a diversity of perspectives, ideas and cultures leads to the creation of better products and services.</p>\",\n",
    "      \"identifier\": {\n",
    "        \"@type\": \"PropertyValue\",\n",
    "        \"name\": \"Google\",\n",
    "        \"value\": \"1234567\"\n",
    "      },\n",
    "      \"datePosted\" : \"2017-01-18\",\n",
    "      \"validThrough\" : \"2017-03-18T00:00\",\n",
    "      \"employmentType\" : \"CONTRACTOR\",\n",
    "      \"hiringOrganization\" : {\n",
    "        \"@type\" : \"Organization\",\n",
    "        \"name\" : \"Google\",\n",
    "        \"sameAs\" : \"http://www.google.com\",\n",
    "        \"logo\" : \"http://www.example.com/images/logo.png\"\n",
    "      },\n",
    "      \"jobLocation\": {\n",
    "      \"@type\": \"Place\",\n",
    "        \"address\": {\n",
    "        \"@type\": \"PostalAddress\",\n",
    "        \"streetAddress\": \"1600 Amphitheatre Pkwy\",\n",
    "        \"addressLocality\": \"Mountain View\",\n",
    "        \"addressRegion\": \"CA\",\n",
    "        \"postalCode\": \"94043\",\n",
    "        \"addressCountry\": \"US\"\n",
    "        }\n",
    "      },\n",
    "      \"baseSalary\": {\n",
    "        \"@type\": \"MonetaryAmount\",\n",
    "        \"currency\": \"USD\",\n",
    "        \"value\": {\n",
    "          \"@type\": \"QuantitativeValue\",\n",
    "          \"value\": 40.00,\n",
    "          \"unitText\": \"HOUR\"\n",
    "        }\n",
    "      }\n",
    "    }"
   ]
  },
  {
   "cell_type": "markdown",
   "id": "b87d44b3",
   "metadata": {},
   "source": [
    "Knowledge graph diagram\n",
    "\n",
    "What is required?\n",
    "\n",
    "1. features\n",
    "2. identifiers\n",
    "3. landing content\n",
    "4. structured, linked data formatted as JSON-LD"
   ]
  }
 ],
 "metadata": {
  "jupytext": {
   "text_representation": {
    "extension": ".md",
    "format_name": "myst"
   }
  },
  "kernelspec": {
   "display_name": "Python 3",
   "language": "python",
   "name": "python3"
  },
  "language_info": {
   "codemirror_mode": {
    "name": "ipython",
    "version": 3
   },
   "file_extension": ".py",
   "mimetype": "text/x-python",
   "name": "python",
   "nbconvert_exporter": "python",
   "pygments_lexer": "ipython3",
   "version": "3.7.12"
  },
  "source_map": [
   10,
   21,
   63
  ]
 },
 "nbformat": 4,
 "nbformat_minor": 5
}