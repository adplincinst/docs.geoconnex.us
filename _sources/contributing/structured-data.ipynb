{
 "cells": [
  {
   "cell_type": "markdown",
   "id": "a7edb6ab",
   "metadata": {},
   "source": [
    "## Publishing structured, linked-data\n",
    "\n",
    "\n",
    "### SELFIE Architecture background\n",
    "\n",
    "### Methods\n",
    "\n",
    "#### Dynamic site methods\n",
    "\n",
    "#### Static site methods"
   ]
  }
 ],
 "metadata": {
  "jupytext": {
   "text_representation": {
    "extension": ".md",
    "format_name": "myst"
   }
  },
  "kernelspec": {
   "display_name": "Python 3",
   "language": "python",
   "name": "python3"
  },
  "language_info": {
   "codemirror_mode": {
    "name": "ipython",
    "version": 3
   },
   "file_extension": ".py",
   "mimetype": "text/x-python",
   "name": "python",
   "nbconvert_exporter": "python",
   "pygments_lexer": "ipython3",
   "version": "3.7.13"
  },
  "source_map": [
   10
  ]
 },
 "nbformat": 4,
 "nbformat_minor": 5
}